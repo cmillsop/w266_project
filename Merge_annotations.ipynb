{
  "nbformat": 4,
  "nbformat_minor": 0,
  "metadata": {
    "colab": {
      "name": "Merge annotations",
      "version": "0.3.2",
      "provenance": [],
      "collapsed_sections": []
    },
    "kernelspec": {
      "name": "python3",
      "display_name": "Python 3"
    }
  },
  "cells": [
    {
      "cell_type": "code",
      "metadata": {
        "id": "CBuRi4rn-AvT",
        "colab_type": "code",
        "outputId": "c82db607-e97f-41a7-d2bb-f477771bcf43",
        "colab": {
          "base_uri": "https://localhost:8080/",
          "height": 51
        }
      },
      "source": [
        "import os\n",
        "import time\n",
        "import sys\n",
        "import csv\n",
        "import pandas as pd\n",
        "import numpy as np\n",
        "from IPython.display import display\n",
        "\n",
        "from google.colab import drive\n",
        "drive.mount('/content/drive', force_remount=True)\n",
        "\n",
        "csv.field_size_limit(sys.maxsize)"
      ],
      "execution_count": 0,
      "outputs": [
        {
          "output_type": "stream",
          "text": [
            "Mounted at /content/drive\n"
          ],
          "name": "stdout"
        },
        {
          "output_type": "execute_result",
          "data": {
            "text/plain": [
              "131072"
            ]
          },
          "metadata": {
            "tags": []
          },
          "execution_count": 1
        }
      ]
    },
    {
      "cell_type": "code",
      "metadata": {
        "id": "VsGBhC36-Gz5",
        "colab_type": "code",
        "colab": {}
      },
      "source": [
        "### File configurations\n",
        "drive_dir = \"/content/drive/My Drive/W266_Project/\"\n",
        "data_src = os.path.join(drive_dir,\"data\")\n",
        "\n",
        "set1 = os.path.join(data_src, 'bios-tagged-set1.csv')\n",
        "set2 = os.path.join(data_src, 'bios-tagged-set2.csv')\n"
      ],
      "execution_count": 0,
      "outputs": []
    },
    {
      "cell_type": "code",
      "metadata": {
        "id": "VtSo53DxDsuD",
        "colab_type": "code",
        "outputId": "6e331436-dc02-414a-df16-03b405057eb6",
        "colab": {
          "base_uri": "https://localhost:8080/",
          "height": 255
        }
      },
      "source": [
        "for file in os.listdir(data_src):\n",
        "  print(file)"
      ],
      "execution_count": 0,
      "outputs": [
        {
          "output_type": "stream",
          "text": [
            "onto.development.ner.sample\n",
            "onto.development.ner\n",
            "onto.test.ner.sample\n",
            "onto.train.ner.sample\n",
            "onto.test.ner\n",
            "onto.train.ner\n",
            "bios-tagged-set1.csv\n",
            "onto.train.ner_bilou.csv\n",
            "onto.development.ner_bilou.csv\n",
            "onto.test.ner_bilou.csv\n",
            "bios-tagged_bilou.csv\n",
            "bios-tagged-set2.csv\n",
            "bios-tagged-final-flat.csv\n",
            "bios-tagged-final-agg.csv\n"
          ],
          "name": "stdout"
        }
      ]
    },
    {
      "cell_type": "code",
      "metadata": {
        "id": "UoEfYUhW-TSN",
        "colab_type": "code",
        "colab": {}
      },
      "source": [
        "z = pd.read_csv(set1, sep=\"\\t\",  quoting=csv.QUOTE_NONE, header=0, skip_blank_lines=False, engine='python', names =['token', 'company', 'director', 'label'])"
      ],
      "execution_count": 0,
      "outputs": []
    },
    {
      "cell_type": "code",
      "metadata": {
        "id": "8wdG3Vgz-mGn",
        "colab_type": "code",
        "outputId": "dc8d4f53-9daf-42f6-b764-03c22baa2174",
        "colab": {
          "base_uri": "https://localhost:8080/",
          "height": 102
        }
      },
      "source": [
        "z.label.unique()"
      ],
      "execution_count": 0,
      "outputs": [
        {
          "output_type": "execute_result",
          "data": {
            "text/plain": [
              "array(['B-PERSON', 'I-PERSON', 'O', 'B-DATE', 'I-DATE', 'B-TITLE',\n",
              "       'B-ORG', 'I-TITLE', None, 'I-ORG', 'B-PERCENT', 'I-PERCENT',\n",
              "       'B-GPE', 'I-GPE', 'B-PRODUCT', 'I-PRODUCT', 'B-CARDINAL',\n",
              "       'B-MONEY', 'I-MONEY', 'B-LAW', 'I-LAW', 'B-NORP', 'I-NORP'],\n",
              "      dtype=object)"
            ]
          },
          "metadata": {
            "tags": []
          },
          "execution_count": 5
        }
      ]
    },
    {
      "cell_type": "code",
      "metadata": {
        "id": "gbo5YHsjAGe6",
        "colab_type": "code",
        "outputId": "5f7b93a7-621b-4325-99b8-18dd468f31e0",
        "colab": {
          "base_uri": "https://localhost:8080/",
          "height": 34
        }
      },
      "source": [
        "z.shape"
      ],
      "execution_count": 0,
      "outputs": [
        {
          "output_type": "execute_result",
          "data": {
            "text/plain": [
              "(10935, 4)"
            ]
          },
          "metadata": {
            "tags": []
          },
          "execution_count": 6
        }
      ]
    },
    {
      "cell_type": "code",
      "metadata": {
        "id": "aoU-zmMxAJey",
        "colab_type": "code",
        "outputId": "4a4c6db1-5e1c-495c-b21a-d2d46e96848a",
        "colab": {
          "base_uri": "https://localhost:8080/",
          "height": 979
        }
      },
      "source": [
        "z.head(30)"
      ],
      "execution_count": 0,
      "outputs": [
        {
          "output_type": "execute_result",
          "data": {
            "text/html": [
              "<div>\n",
              "<style scoped>\n",
              "    .dataframe tbody tr th:only-of-type {\n",
              "        vertical-align: middle;\n",
              "    }\n",
              "\n",
              "    .dataframe tbody tr th {\n",
              "        vertical-align: top;\n",
              "    }\n",
              "\n",
              "    .dataframe thead th {\n",
              "        text-align: right;\n",
              "    }\n",
              "</style>\n",
              "<table border=\"1\" class=\"dataframe\">\n",
              "  <thead>\n",
              "    <tr style=\"text-align: right;\">\n",
              "      <th></th>\n",
              "      <th>token</th>\n",
              "      <th>company</th>\n",
              "      <th>director</th>\n",
              "      <th>label</th>\n",
              "    </tr>\n",
              "  </thead>\n",
              "  <tbody>\n",
              "    <tr>\n",
              "      <th>0</th>\n",
              "      <td>Jeffrey</td>\n",
              "      <td>AMAZON.COM INC</td>\n",
              "      <td>1.0</td>\n",
              "      <td>B-PERSON</td>\n",
              "    </tr>\n",
              "    <tr>\n",
              "      <th>1</th>\n",
              "      <td>P.</td>\n",
              "      <td>AMAZON.COM INC</td>\n",
              "      <td>1.0</td>\n",
              "      <td>I-PERSON</td>\n",
              "    </tr>\n",
              "    <tr>\n",
              "      <th>2</th>\n",
              "      <td>Bezos</td>\n",
              "      <td>AMAZON.COM INC</td>\n",
              "      <td>1.0</td>\n",
              "      <td>I-PERSON</td>\n",
              "    </tr>\n",
              "    <tr>\n",
              "      <th>3</th>\n",
              "      <td>,</td>\n",
              "      <td>AMAZON.COM INC</td>\n",
              "      <td>1.0</td>\n",
              "      <td>O</td>\n",
              "    </tr>\n",
              "    <tr>\n",
              "      <th>4</th>\n",
              "      <td>age</td>\n",
              "      <td>AMAZON.COM INC</td>\n",
              "      <td>1.0</td>\n",
              "      <td>B-DATE</td>\n",
              "    </tr>\n",
              "    <tr>\n",
              "      <th>5</th>\n",
              "      <td>55</td>\n",
              "      <td>AMAZON.COM INC</td>\n",
              "      <td>1.0</td>\n",
              "      <td>I-DATE</td>\n",
              "    </tr>\n",
              "    <tr>\n",
              "      <th>6</th>\n",
              "      <td>,</td>\n",
              "      <td>AMAZON.COM INC</td>\n",
              "      <td>1.0</td>\n",
              "      <td>O</td>\n",
              "    </tr>\n",
              "    <tr>\n",
              "      <th>7</th>\n",
              "      <td>has</td>\n",
              "      <td>AMAZON.COM INC</td>\n",
              "      <td>1.0</td>\n",
              "      <td>O</td>\n",
              "    </tr>\n",
              "    <tr>\n",
              "      <th>8</th>\n",
              "      <td>been</td>\n",
              "      <td>AMAZON.COM INC</td>\n",
              "      <td>1.0</td>\n",
              "      <td>O</td>\n",
              "    </tr>\n",
              "    <tr>\n",
              "      <th>9</th>\n",
              "      <td>Chairman</td>\n",
              "      <td>AMAZON.COM INC</td>\n",
              "      <td>1.0</td>\n",
              "      <td>B-TITLE</td>\n",
              "    </tr>\n",
              "    <tr>\n",
              "      <th>10</th>\n",
              "      <td>of</td>\n",
              "      <td>AMAZON.COM INC</td>\n",
              "      <td>1.0</td>\n",
              "      <td>O</td>\n",
              "    </tr>\n",
              "    <tr>\n",
              "      <th>11</th>\n",
              "      <td>the</td>\n",
              "      <td>AMAZON.COM INC</td>\n",
              "      <td>1.0</td>\n",
              "      <td>O</td>\n",
              "    </tr>\n",
              "    <tr>\n",
              "      <th>12</th>\n",
              "      <td>Board</td>\n",
              "      <td>AMAZON.COM INC</td>\n",
              "      <td>1.0</td>\n",
              "      <td>B-ORG</td>\n",
              "    </tr>\n",
              "    <tr>\n",
              "      <th>13</th>\n",
              "      <td>since</td>\n",
              "      <td>AMAZON.COM INC</td>\n",
              "      <td>1.0</td>\n",
              "      <td>O</td>\n",
              "    </tr>\n",
              "    <tr>\n",
              "      <th>14</th>\n",
              "      <td>founding</td>\n",
              "      <td>AMAZON.COM INC</td>\n",
              "      <td>1.0</td>\n",
              "      <td>O</td>\n",
              "    </tr>\n",
              "    <tr>\n",
              "      <th>15</th>\n",
              "      <td>the</td>\n",
              "      <td>AMAZON.COM INC</td>\n",
              "      <td>1.0</td>\n",
              "      <td>O</td>\n",
              "    </tr>\n",
              "    <tr>\n",
              "      <th>16</th>\n",
              "      <td>Company</td>\n",
              "      <td>AMAZON.COM INC</td>\n",
              "      <td>1.0</td>\n",
              "      <td>B-ORG</td>\n",
              "    </tr>\n",
              "    <tr>\n",
              "      <th>17</th>\n",
              "      <td>in</td>\n",
              "      <td>AMAZON.COM INC</td>\n",
              "      <td>1.0</td>\n",
              "      <td>O</td>\n",
              "    </tr>\n",
              "    <tr>\n",
              "      <th>18</th>\n",
              "      <td>1994</td>\n",
              "      <td>AMAZON.COM INC</td>\n",
              "      <td>1.0</td>\n",
              "      <td>B-DATE</td>\n",
              "    </tr>\n",
              "    <tr>\n",
              "      <th>19</th>\n",
              "      <td>and</td>\n",
              "      <td>AMAZON.COM INC</td>\n",
              "      <td>1.0</td>\n",
              "      <td>O</td>\n",
              "    </tr>\n",
              "    <tr>\n",
              "      <th>20</th>\n",
              "      <td>Chief</td>\n",
              "      <td>AMAZON.COM INC</td>\n",
              "      <td>1.0</td>\n",
              "      <td>B-TITLE</td>\n",
              "    </tr>\n",
              "    <tr>\n",
              "      <th>21</th>\n",
              "      <td>Executive</td>\n",
              "      <td>AMAZON.COM INC</td>\n",
              "      <td>1.0</td>\n",
              "      <td>I-TITLE</td>\n",
              "    </tr>\n",
              "    <tr>\n",
              "      <th>22</th>\n",
              "      <td>Officer</td>\n",
              "      <td>AMAZON.COM INC</td>\n",
              "      <td>1.0</td>\n",
              "      <td>I-TITLE</td>\n",
              "    </tr>\n",
              "    <tr>\n",
              "      <th>23</th>\n",
              "      <td>since</td>\n",
              "      <td>AMAZON.COM INC</td>\n",
              "      <td>1.0</td>\n",
              "      <td>O</td>\n",
              "    </tr>\n",
              "    <tr>\n",
              "      <th>24</th>\n",
              "      <td>May</td>\n",
              "      <td>AMAZON.COM INC</td>\n",
              "      <td>1.0</td>\n",
              "      <td>B-DATE</td>\n",
              "    </tr>\n",
              "    <tr>\n",
              "      <th>25</th>\n",
              "      <td>1996</td>\n",
              "      <td>AMAZON.COM INC</td>\n",
              "      <td>1.0</td>\n",
              "      <td>I-DATE</td>\n",
              "    </tr>\n",
              "    <tr>\n",
              "      <th>26</th>\n",
              "      <td>.</td>\n",
              "      <td>AMAZON.COM INC</td>\n",
              "      <td>1.0</td>\n",
              "      <td>O</td>\n",
              "    </tr>\n",
              "    <tr>\n",
              "      <th>27</th>\n",
              "      <td>NaN</td>\n",
              "      <td>NaN</td>\n",
              "      <td>NaN</td>\n",
              "      <td>None</td>\n",
              "    </tr>\n",
              "    <tr>\n",
              "      <th>28</th>\n",
              "      <td>Mr.</td>\n",
              "      <td>AMAZON.COM INC</td>\n",
              "      <td>1.0</td>\n",
              "      <td>O</td>\n",
              "    </tr>\n",
              "    <tr>\n",
              "      <th>29</th>\n",
              "      <td>Bezos</td>\n",
              "      <td>AMAZON.COM INC</td>\n",
              "      <td>1.0</td>\n",
              "      <td>B-PERSON</td>\n",
              "    </tr>\n",
              "  </tbody>\n",
              "</table>\n",
              "</div>"
            ],
            "text/plain": [
              "        token         company  director     label\n",
              "0     Jeffrey  AMAZON.COM INC       1.0  B-PERSON\n",
              "1          P.  AMAZON.COM INC       1.0  I-PERSON\n",
              "2       Bezos  AMAZON.COM INC       1.0  I-PERSON\n",
              "3           ,  AMAZON.COM INC       1.0         O\n",
              "4         age  AMAZON.COM INC       1.0    B-DATE\n",
              "5          55  AMAZON.COM INC       1.0    I-DATE\n",
              "6           ,  AMAZON.COM INC       1.0         O\n",
              "7         has  AMAZON.COM INC       1.0         O\n",
              "8        been  AMAZON.COM INC       1.0         O\n",
              "9    Chairman  AMAZON.COM INC       1.0   B-TITLE\n",
              "10         of  AMAZON.COM INC       1.0         O\n",
              "11        the  AMAZON.COM INC       1.0         O\n",
              "12      Board  AMAZON.COM INC       1.0     B-ORG\n",
              "13      since  AMAZON.COM INC       1.0         O\n",
              "14   founding  AMAZON.COM INC       1.0         O\n",
              "15        the  AMAZON.COM INC       1.0         O\n",
              "16    Company  AMAZON.COM INC       1.0     B-ORG\n",
              "17         in  AMAZON.COM INC       1.0         O\n",
              "18       1994  AMAZON.COM INC       1.0    B-DATE\n",
              "19        and  AMAZON.COM INC       1.0         O\n",
              "20      Chief  AMAZON.COM INC       1.0   B-TITLE\n",
              "21  Executive  AMAZON.COM INC       1.0   I-TITLE\n",
              "22    Officer  AMAZON.COM INC       1.0   I-TITLE\n",
              "23      since  AMAZON.COM INC       1.0         O\n",
              "24        May  AMAZON.COM INC       1.0    B-DATE\n",
              "25       1996  AMAZON.COM INC       1.0    I-DATE\n",
              "26          .  AMAZON.COM INC       1.0         O\n",
              "27        NaN             NaN       NaN      None\n",
              "28        Mr.  AMAZON.COM INC       1.0         O\n",
              "29      Bezos  AMAZON.COM INC       1.0  B-PERSON"
            ]
          },
          "metadata": {
            "tags": []
          },
          "execution_count": 7
        }
      ]
    },
    {
      "cell_type": "code",
      "metadata": {
        "id": "5DFQZOx_iSxY",
        "colab_type": "code",
        "colab": {}
      },
      "source": [
        "z2 = pd.read_csv(set2,  header=None, skip_blank_lines=False, names =['token','label'])"
      ],
      "execution_count": 0,
      "outputs": []
    },
    {
      "cell_type": "code",
      "metadata": {
        "id": "yQDORYYoig0r",
        "colab_type": "code",
        "outputId": "9d6be180-7bbd-45c9-bc4e-07be6feef07b",
        "colab": {
          "base_uri": "https://localhost:8080/",
          "height": 34
        }
      },
      "source": [
        "z2.shape"
      ],
      "execution_count": 0,
      "outputs": [
        {
          "output_type": "execute_result",
          "data": {
            "text/plain": [
              "(6483, 2)"
            ]
          },
          "metadata": {
            "tags": []
          },
          "execution_count": 9
        }
      ]
    },
    {
      "cell_type": "code",
      "metadata": {
        "id": "WNahzq0Kijme",
        "colab_type": "code",
        "outputId": "417e2712-22d0-4c60-a232-676a0bd88972",
        "colab": {
          "base_uri": "https://localhost:8080/",
          "height": 85
        }
      },
      "source": [
        "z2.label.unique()"
      ],
      "execution_count": 0,
      "outputs": [
        {
          "output_type": "execute_result",
          "data": {
            "text/plain": [
              "array(['B-PERSON', 'I-PERSON', 'O', 'B-DATE', 'B-TITLE', 'B-ORG', 'I-ORG',\n",
              "       nan, 'I-TITLE', 'I-DATE', 'B-GPE', 'B-PRODUCT', 'B-NORP',\n",
              "       'I-PRODUCT', 'B-LAW', 'I-LAW', 'B-ORDINAL', 'I-GPE', 'B-LOC',\n",
              "       'I-NORP', 'B-MONEY', 'I-MONEY'], dtype=object)"
            ]
          },
          "metadata": {
            "tags": []
          },
          "execution_count": 10
        }
      ]
    },
    {
      "cell_type": "code",
      "metadata": {
        "id": "eyto1C-EifNU",
        "colab_type": "code",
        "outputId": "0ecd48a3-a3d5-44af-98a2-707cc6a37fd4",
        "colab": {
          "base_uri": "https://localhost:8080/",
          "height": 979
        }
      },
      "source": [
        "z2.head(30)"
      ],
      "execution_count": 0,
      "outputs": [
        {
          "output_type": "execute_result",
          "data": {
            "text/html": [
              "<div>\n",
              "<style scoped>\n",
              "    .dataframe tbody tr th:only-of-type {\n",
              "        vertical-align: middle;\n",
              "    }\n",
              "\n",
              "    .dataframe tbody tr th {\n",
              "        vertical-align: top;\n",
              "    }\n",
              "\n",
              "    .dataframe thead th {\n",
              "        text-align: right;\n",
              "    }\n",
              "</style>\n",
              "<table border=\"1\" class=\"dataframe\">\n",
              "  <thead>\n",
              "    <tr style=\"text-align: right;\">\n",
              "      <th></th>\n",
              "      <th>token</th>\n",
              "      <th>label</th>\n",
              "    </tr>\n",
              "  </thead>\n",
              "  <tbody>\n",
              "    <tr>\n",
              "      <th>0</th>\n",
              "      <td>Hafize</td>\n",
              "      <td>B-PERSON</td>\n",
              "    </tr>\n",
              "    <tr>\n",
              "      <th>1</th>\n",
              "      <td>Gaye</td>\n",
              "      <td>I-PERSON</td>\n",
              "    </tr>\n",
              "    <tr>\n",
              "      <th>2</th>\n",
              "      <td>Erkan</td>\n",
              "      <td>I-PERSON</td>\n",
              "    </tr>\n",
              "    <tr>\n",
              "      <th>3</th>\n",
              "      <td>-</td>\n",
              "      <td>O</td>\n",
              "    </tr>\n",
              "    <tr>\n",
              "      <th>4</th>\n",
              "      <td>Ms.</td>\n",
              "      <td>O</td>\n",
              "    </tr>\n",
              "    <tr>\n",
              "      <th>5</th>\n",
              "      <td>Erkan</td>\n",
              "      <td>B-PERSON</td>\n",
              "    </tr>\n",
              "    <tr>\n",
              "      <th>6</th>\n",
              "      <td>,</td>\n",
              "      <td>O</td>\n",
              "    </tr>\n",
              "    <tr>\n",
              "      <th>7</th>\n",
              "      <td>40</td>\n",
              "      <td>B-DATE</td>\n",
              "    </tr>\n",
              "    <tr>\n",
              "      <th>8</th>\n",
              "      <td>,</td>\n",
              "      <td>O</td>\n",
              "    </tr>\n",
              "    <tr>\n",
              "      <th>9</th>\n",
              "      <td>is</td>\n",
              "      <td>O</td>\n",
              "    </tr>\n",
              "    <tr>\n",
              "      <th>10</th>\n",
              "      <td>the</td>\n",
              "      <td>O</td>\n",
              "    </tr>\n",
              "    <tr>\n",
              "      <th>11</th>\n",
              "      <td>President</td>\n",
              "      <td>B-TITLE</td>\n",
              "    </tr>\n",
              "    <tr>\n",
              "      <th>12</th>\n",
              "      <td>of</td>\n",
              "      <td>O</td>\n",
              "    </tr>\n",
              "    <tr>\n",
              "      <th>13</th>\n",
              "      <td>First</td>\n",
              "      <td>B-ORG</td>\n",
              "    </tr>\n",
              "    <tr>\n",
              "      <th>14</th>\n",
              "      <td>Republic</td>\n",
              "      <td>I-ORG</td>\n",
              "    </tr>\n",
              "    <tr>\n",
              "      <th>15</th>\n",
              "      <td>Bank</td>\n",
              "      <td>I-ORG</td>\n",
              "    </tr>\n",
              "    <tr>\n",
              "      <th>16</th>\n",
              "      <td>(</td>\n",
              "      <td>O</td>\n",
              "    </tr>\n",
              "    <tr>\n",
              "      <th>17</th>\n",
              "      <td>``</td>\n",
              "      <td>O</td>\n",
              "    </tr>\n",
              "    <tr>\n",
              "      <th>18</th>\n",
              "      <td>First</td>\n",
              "      <td>B-ORG</td>\n",
              "    </tr>\n",
              "    <tr>\n",
              "      <th>19</th>\n",
              "      <td>Republic</td>\n",
              "      <td>I-ORG</td>\n",
              "    </tr>\n",
              "    <tr>\n",
              "      <th>20</th>\n",
              "      <td>''</td>\n",
              "      <td>O</td>\n",
              "    </tr>\n",
              "    <tr>\n",
              "      <th>21</th>\n",
              "      <td>)</td>\n",
              "      <td>O</td>\n",
              "    </tr>\n",
              "    <tr>\n",
              "      <th>22</th>\n",
              "      <td>.</td>\n",
              "      <td>O</td>\n",
              "    </tr>\n",
              "    <tr>\n",
              "      <th>23</th>\n",
              "      <td>NaN</td>\n",
              "      <td>NaN</td>\n",
              "    </tr>\n",
              "    <tr>\n",
              "      <th>24</th>\n",
              "      <td>Ms.</td>\n",
              "      <td>O</td>\n",
              "    </tr>\n",
              "    <tr>\n",
              "      <th>25</th>\n",
              "      <td>Erkan</td>\n",
              "      <td>B-PERSON</td>\n",
              "    </tr>\n",
              "    <tr>\n",
              "      <th>26</th>\n",
              "      <td>also</td>\n",
              "      <td>O</td>\n",
              "    </tr>\n",
              "    <tr>\n",
              "      <th>27</th>\n",
              "      <td>became</td>\n",
              "      <td>O</td>\n",
              "    </tr>\n",
              "    <tr>\n",
              "      <th>28</th>\n",
              "      <td>a</td>\n",
              "      <td>O</td>\n",
              "    </tr>\n",
              "    <tr>\n",
              "      <th>29</th>\n",
              "      <td>member</td>\n",
              "      <td>B-TITLE</td>\n",
              "    </tr>\n",
              "  </tbody>\n",
              "</table>\n",
              "</div>"
            ],
            "text/plain": [
              "        token     label\n",
              "0      Hafize  B-PERSON\n",
              "1        Gaye  I-PERSON\n",
              "2       Erkan  I-PERSON\n",
              "3           -         O\n",
              "4         Ms.         O\n",
              "5       Erkan  B-PERSON\n",
              "6           ,         O\n",
              "7          40    B-DATE\n",
              "8           ,         O\n",
              "9          is         O\n",
              "10        the         O\n",
              "11  President   B-TITLE\n",
              "12         of         O\n",
              "13      First     B-ORG\n",
              "14   Republic     I-ORG\n",
              "15       Bank     I-ORG\n",
              "16          (         O\n",
              "17         ``         O\n",
              "18      First     B-ORG\n",
              "19   Republic     I-ORG\n",
              "20         ''         O\n",
              "21          )         O\n",
              "22          .         O\n",
              "23        NaN       NaN\n",
              "24        Ms.         O\n",
              "25      Erkan  B-PERSON\n",
              "26       also         O\n",
              "27     became         O\n",
              "28          a         O\n",
              "29     member   B-TITLE"
            ]
          },
          "metadata": {
            "tags": []
          },
          "execution_count": 11
        }
      ]
    },
    {
      "cell_type": "code",
      "metadata": {
        "id": "KpVFsMFCi8PT",
        "colab_type": "code",
        "outputId": "e5ec9924-7944-4889-eec4-0fc83c49edcf",
        "colab": {
          "base_uri": "https://localhost:8080/",
          "height": 357
        }
      },
      "source": [
        "z1 = z.append({'company': np.NaN, 'director': np.NaN, 'label': np.NaN, 'token': np.NaN}, ignore_index=True)\n",
        "z3 = z1.append(z2)\n",
        "z3 = z3[['token', 'company', 'director', 'label']]\n",
        "print(f\"Is the row count as expected? - {z3.shape[0] == z.shape[0] + z2.shape[0] + 1}\")\n",
        "z3.to_csv(os.path.join(data_src,'bios-tagged-final-flat.csv'), sep=\"\\t\", index=False)\n",
        "z3.head()"
      ],
      "execution_count": 0,
      "outputs": [
        {
          "output_type": "stream",
          "text": [
            "Is the row count as expected? - True\n"
          ],
          "name": "stdout"
        },
        {
          "output_type": "stream",
          "text": [
            "/usr/local/lib/python3.6/dist-packages/pandas/core/frame.py:6692: FutureWarning: Sorting because non-concatenation axis is not aligned. A future version\n",
            "of pandas will change to not sort by default.\n",
            "\n",
            "To accept the future behavior, pass 'sort=False'.\n",
            "\n",
            "To retain the current behavior and silence the warning, pass 'sort=True'.\n",
            "\n",
            "  sort=sort)\n"
          ],
          "name": "stderr"
        },
        {
          "output_type": "execute_result",
          "data": {
            "text/html": [
              "<div>\n",
              "<style scoped>\n",
              "    .dataframe tbody tr th:only-of-type {\n",
              "        vertical-align: middle;\n",
              "    }\n",
              "\n",
              "    .dataframe tbody tr th {\n",
              "        vertical-align: top;\n",
              "    }\n",
              "\n",
              "    .dataframe thead th {\n",
              "        text-align: right;\n",
              "    }\n",
              "</style>\n",
              "<table border=\"1\" class=\"dataframe\">\n",
              "  <thead>\n",
              "    <tr style=\"text-align: right;\">\n",
              "      <th></th>\n",
              "      <th>token</th>\n",
              "      <th>company</th>\n",
              "      <th>director</th>\n",
              "      <th>label</th>\n",
              "    </tr>\n",
              "  </thead>\n",
              "  <tbody>\n",
              "    <tr>\n",
              "      <th>0</th>\n",
              "      <td>Jeffrey</td>\n",
              "      <td>AMAZON.COM INC</td>\n",
              "      <td>1.0</td>\n",
              "      <td>B-PERSON</td>\n",
              "    </tr>\n",
              "    <tr>\n",
              "      <th>1</th>\n",
              "      <td>P.</td>\n",
              "      <td>AMAZON.COM INC</td>\n",
              "      <td>1.0</td>\n",
              "      <td>I-PERSON</td>\n",
              "    </tr>\n",
              "    <tr>\n",
              "      <th>2</th>\n",
              "      <td>Bezos</td>\n",
              "      <td>AMAZON.COM INC</td>\n",
              "      <td>1.0</td>\n",
              "      <td>I-PERSON</td>\n",
              "    </tr>\n",
              "    <tr>\n",
              "      <th>3</th>\n",
              "      <td>,</td>\n",
              "      <td>AMAZON.COM INC</td>\n",
              "      <td>1.0</td>\n",
              "      <td>O</td>\n",
              "    </tr>\n",
              "    <tr>\n",
              "      <th>4</th>\n",
              "      <td>age</td>\n",
              "      <td>AMAZON.COM INC</td>\n",
              "      <td>1.0</td>\n",
              "      <td>B-DATE</td>\n",
              "    </tr>\n",
              "  </tbody>\n",
              "</table>\n",
              "</div>"
            ],
            "text/plain": [
              "     token         company  director     label\n",
              "0  Jeffrey  AMAZON.COM INC       1.0  B-PERSON\n",
              "1       P.  AMAZON.COM INC       1.0  I-PERSON\n",
              "2    Bezos  AMAZON.COM INC       1.0  I-PERSON\n",
              "3        ,  AMAZON.COM INC       1.0         O\n",
              "4      age  AMAZON.COM INC       1.0    B-DATE"
            ]
          },
          "metadata": {
            "tags": []
          },
          "execution_count": 12
        }
      ]
    },
    {
      "cell_type": "code",
      "metadata": {
        "id": "ktlp7t_3_2uE",
        "colab_type": "code",
        "colab": {}
      },
      "source": [
        "def checkPrior(blah):\n",
        "  if (blah.prior is None or blah.prior is np.NaN) and (blah.prior_company is None or blah.prior_company is np.NaN):\n",
        "    return True\n",
        "  else:\n",
        "    return False \n",
        " \n",
        "def conll_to_sentences(data):\n",
        "  # see if prior row was a newline\n",
        "  data['prior'] = data.token.shift(1)\n",
        "  data['prior_company'] = data.company.shift(1)\n",
        "  # drop empty rows\n",
        "  data = data.loc[~data.token.isnull()]\n",
        "  data.prior = data.apply(checkPrior, axis=1)\n",
        "  data['phrase'] = data.prior.cumsum()\n",
        "\n",
        "  display(data.head())\n",
        "  return data.groupby('phrase').agg({'token': list, 'label': list, 'director': 'min', 'company': 'min'})\n"
      ],
      "execution_count": 0,
      "outputs": []
    },
    {
      "cell_type": "code",
      "metadata": {
        "id": "jnXFaHShm99K",
        "colab_type": "code",
        "outputId": "e0362931-cea0-44ce-88de-756009e129f3",
        "colab": {
          "base_uri": "https://localhost:8080/",
          "height": 408
        }
      },
      "source": [
        "zf = conll_to_sentences(z3)"
      ],
      "execution_count": 0,
      "outputs": [
        {
          "output_type": "stream",
          "text": [
            "/usr/local/lib/python3.6/dist-packages/pandas/core/generic.py:5096: SettingWithCopyWarning: \n",
            "A value is trying to be set on a copy of a slice from a DataFrame.\n",
            "Try using .loc[row_indexer,col_indexer] = value instead\n",
            "\n",
            "See the caveats in the documentation: http://pandas.pydata.org/pandas-docs/stable/indexing.html#indexing-view-versus-copy\n",
            "  self[name] = value\n",
            "/usr/local/lib/python3.6/dist-packages/ipykernel_launcher.py:14: SettingWithCopyWarning: \n",
            "A value is trying to be set on a copy of a slice from a DataFrame.\n",
            "Try using .loc[row_indexer,col_indexer] = value instead\n",
            "\n",
            "See the caveats in the documentation: http://pandas.pydata.org/pandas-docs/stable/indexing.html#indexing-view-versus-copy\n",
            "  \n"
          ],
          "name": "stderr"
        },
        {
          "output_type": "display_data",
          "data": {
            "text/html": [
              "<div>\n",
              "<style scoped>\n",
              "    .dataframe tbody tr th:only-of-type {\n",
              "        vertical-align: middle;\n",
              "    }\n",
              "\n",
              "    .dataframe tbody tr th {\n",
              "        vertical-align: top;\n",
              "    }\n",
              "\n",
              "    .dataframe thead th {\n",
              "        text-align: right;\n",
              "    }\n",
              "</style>\n",
              "<table border=\"1\" class=\"dataframe\">\n",
              "  <thead>\n",
              "    <tr style=\"text-align: right;\">\n",
              "      <th></th>\n",
              "      <th>token</th>\n",
              "      <th>company</th>\n",
              "      <th>director</th>\n",
              "      <th>label</th>\n",
              "      <th>prior</th>\n",
              "      <th>prior_company</th>\n",
              "      <th>phrase</th>\n",
              "    </tr>\n",
              "  </thead>\n",
              "  <tbody>\n",
              "    <tr>\n",
              "      <th>0</th>\n",
              "      <td>Jeffrey</td>\n",
              "      <td>AMAZON.COM INC</td>\n",
              "      <td>1.0</td>\n",
              "      <td>B-PERSON</td>\n",
              "      <td>True</td>\n",
              "      <td>NaN</td>\n",
              "      <td>1</td>\n",
              "    </tr>\n",
              "    <tr>\n",
              "      <th>1</th>\n",
              "      <td>P.</td>\n",
              "      <td>AMAZON.COM INC</td>\n",
              "      <td>1.0</td>\n",
              "      <td>I-PERSON</td>\n",
              "      <td>False</td>\n",
              "      <td>AMAZON.COM INC</td>\n",
              "      <td>1</td>\n",
              "    </tr>\n",
              "    <tr>\n",
              "      <th>2</th>\n",
              "      <td>Bezos</td>\n",
              "      <td>AMAZON.COM INC</td>\n",
              "      <td>1.0</td>\n",
              "      <td>I-PERSON</td>\n",
              "      <td>False</td>\n",
              "      <td>AMAZON.COM INC</td>\n",
              "      <td>1</td>\n",
              "    </tr>\n",
              "    <tr>\n",
              "      <th>3</th>\n",
              "      <td>,</td>\n",
              "      <td>AMAZON.COM INC</td>\n",
              "      <td>1.0</td>\n",
              "      <td>O</td>\n",
              "      <td>False</td>\n",
              "      <td>AMAZON.COM INC</td>\n",
              "      <td>1</td>\n",
              "    </tr>\n",
              "    <tr>\n",
              "      <th>4</th>\n",
              "      <td>age</td>\n",
              "      <td>AMAZON.COM INC</td>\n",
              "      <td>1.0</td>\n",
              "      <td>B-DATE</td>\n",
              "      <td>False</td>\n",
              "      <td>AMAZON.COM INC</td>\n",
              "      <td>1</td>\n",
              "    </tr>\n",
              "  </tbody>\n",
              "</table>\n",
              "</div>"
            ],
            "text/plain": [
              "     token         company  director     label  prior   prior_company  phrase\n",
              "0  Jeffrey  AMAZON.COM INC       1.0  B-PERSON   True             NaN       1\n",
              "1       P.  AMAZON.COM INC       1.0  I-PERSON  False  AMAZON.COM INC       1\n",
              "2    Bezos  AMAZON.COM INC       1.0  I-PERSON  False  AMAZON.COM INC       1\n",
              "3        ,  AMAZON.COM INC       1.0         O  False  AMAZON.COM INC       1\n",
              "4      age  AMAZON.COM INC       1.0    B-DATE  False  AMAZON.COM INC       1"
            ]
          },
          "metadata": {
            "tags": []
          }
        }
      ]
    },
    {
      "cell_type": "code",
      "metadata": {
        "id": "dwDKgOrGnBFs",
        "colab_type": "code",
        "outputId": "8f53ddf5-efa5-4ce8-9dbb-f4afe4ea4cb4",
        "colab": {
          "base_uri": "https://localhost:8080/",
          "height": 252
        }
      },
      "source": [
        "print(zf.shape)\n",
        "zf.head()"
      ],
      "execution_count": 0,
      "outputs": [
        {
          "output_type": "stream",
          "text": [
            "(708, 4)\n"
          ],
          "name": "stdout"
        },
        {
          "output_type": "execute_result",
          "data": {
            "text/html": [
              "<div>\n",
              "<style scoped>\n",
              "    .dataframe tbody tr th:only-of-type {\n",
              "        vertical-align: middle;\n",
              "    }\n",
              "\n",
              "    .dataframe tbody tr th {\n",
              "        vertical-align: top;\n",
              "    }\n",
              "\n",
              "    .dataframe thead th {\n",
              "        text-align: right;\n",
              "    }\n",
              "</style>\n",
              "<table border=\"1\" class=\"dataframe\">\n",
              "  <thead>\n",
              "    <tr style=\"text-align: right;\">\n",
              "      <th></th>\n",
              "      <th>token</th>\n",
              "      <th>label</th>\n",
              "      <th>director</th>\n",
              "      <th>company</th>\n",
              "    </tr>\n",
              "    <tr>\n",
              "      <th>phrase</th>\n",
              "      <th></th>\n",
              "      <th></th>\n",
              "      <th></th>\n",
              "      <th></th>\n",
              "    </tr>\n",
              "  </thead>\n",
              "  <tbody>\n",
              "    <tr>\n",
              "      <th>1</th>\n",
              "      <td>[Jeffrey, P., Bezos, ,, age, 55, ,, has, been,...</td>\n",
              "      <td>[B-PERSON, I-PERSON, I-PERSON, O, B-DATE, I-DA...</td>\n",
              "      <td>1.0</td>\n",
              "      <td>AMAZON.COM INC</td>\n",
              "    </tr>\n",
              "    <tr>\n",
              "      <th>2</th>\n",
              "      <td>[Mr., Bezos, served, as, President, from, foun...</td>\n",
              "      <td>[O, B-PERSON, O, O, B-TITLE, O, O, O, B-DATE, ...</td>\n",
              "      <td>1.0</td>\n",
              "      <td>AMAZON.COM INC</td>\n",
              "    </tr>\n",
              "    <tr>\n",
              "      <th>3</th>\n",
              "      <td>[Mr., Bezos, individual, qualifications, and, ...</td>\n",
              "      <td>[O, B-PERSON, O, O, O, O, O, O, B-TITLE, O, O,...</td>\n",
              "      <td>1.0</td>\n",
              "      <td>AMAZON.COM INC</td>\n",
              "    </tr>\n",
              "    <tr>\n",
              "      <th>4</th>\n",
              "      <td>[Rosalind, G., Brewer, ,, age, 56, ,, has, bee...</td>\n",
              "      <td>[B-PERSON, I-PERSON, I-PERSON, O, B-DATE, I-DA...</td>\n",
              "      <td>2.0</td>\n",
              "      <td>AMAZON.COM INC</td>\n",
              "    </tr>\n",
              "    <tr>\n",
              "      <th>5</th>\n",
              "      <td>[Ms., Brewer, has, been, the, Group, President...</td>\n",
              "      <td>[O, B-PERSON, O, O, O, B-TITLE, I-TITLE, I-TIT...</td>\n",
              "      <td>2.0</td>\n",
              "      <td>AMAZON.COM INC</td>\n",
              "    </tr>\n",
              "  </tbody>\n",
              "</table>\n",
              "</div>"
            ],
            "text/plain": [
              "                                                    token  ...         company\n",
              "phrase                                                     ...                \n",
              "1       [Jeffrey, P., Bezos, ,, age, 55, ,, has, been,...  ...  AMAZON.COM INC\n",
              "2       [Mr., Bezos, served, as, President, from, foun...  ...  AMAZON.COM INC\n",
              "3       [Mr., Bezos, individual, qualifications, and, ...  ...  AMAZON.COM INC\n",
              "4       [Rosalind, G., Brewer, ,, age, 56, ,, has, bee...  ...  AMAZON.COM INC\n",
              "5       [Ms., Brewer, has, been, the, Group, President...  ...  AMAZON.COM INC\n",
              "\n",
              "[5 rows x 4 columns]"
            ]
          },
          "metadata": {
            "tags": []
          },
          "execution_count": 15
        }
      ]
    },
    {
      "cell_type": "code",
      "metadata": {
        "id": "jhwEv0DVGlrn",
        "colab_type": "code",
        "colab": {}
      },
      "source": [
        "zf.to_csv(os.path.join(data_src,'bios-tagged-final-agg.csv'), sep=\"\\t\", index=False)"
      ],
      "execution_count": 0,
      "outputs": []
    }
  ]
}