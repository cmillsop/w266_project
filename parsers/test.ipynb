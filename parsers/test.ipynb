{
 "cells": [
  {
   "cell_type": "code",
   "execution_count": 76,
   "metadata": {},
   "outputs": [],
   "source": [
    "from bs4 import BeautifulSoup\n",
    "import re"
   ]
  },
  {
   "cell_type": "code",
   "execution_count": 135,
   "metadata": {},
   "outputs": [],
   "source": [
    "with open(r'C:\\users\\cmillsop\\desktop\\w266_project\\3M_2019.htm') as f:\n",
    "    html_doc = f.read()"
   ]
  },
  {
   "cell_type": "code",
   "execution_count": 143,
   "metadata": {},
   "outputs": [],
   "source": [
    "soup = BeautifulSoup(html_doc, 'html.parser')"
   ]
  },
  {
   "cell_type": "code",
   "execution_count": 144,
   "metadata": {},
   "outputs": [],
   "source": [
    "tables = soup.find_all(string=\"Nominees for director\")[1].find_all_next('table',{'cellspacing':'0', 'border':'0', 'cellpadding':'0'})"
   ]
  },
  {
   "cell_type": "code",
   "execution_count": 166,
   "metadata": {},
   "outputs": [],
   "source": [
    "director_rows = []\n",
    "\n",
    "z = [x for x in tables if len(x.findAll(text=re.compile('Director since'))) == 1]\n",
    "for idx, table in enumerate(z):\n",
    "    # row 1 is name, age, since\n",
    "    # row 2 is professional qualifications, nominee qualifications, bullets\n",
    "    with open(rf'C:\\users\\cmillsop\\desktop\\w266_project\\3M\\2019_{idx}.txt','wb+') as f:\n",
    "        f.write(table.get_text().encode('utf-8'))"
   ]
  }
 ],
 "metadata": {
  "kernelspec": {
   "display_name": "Python 3",
   "language": "python",
   "name": "python3"
  },
  "language_info": {
   "codemirror_mode": {
    "name": "ipython",
    "version": 3
   },
   "file_extension": ".py",
   "mimetype": "text/x-python",
   "name": "python",
   "nbconvert_exporter": "python",
   "pygments_lexer": "ipython3",
   "version": "3.7.3"
  }
 },
 "nbformat": 4,
 "nbformat_minor": 4
}
